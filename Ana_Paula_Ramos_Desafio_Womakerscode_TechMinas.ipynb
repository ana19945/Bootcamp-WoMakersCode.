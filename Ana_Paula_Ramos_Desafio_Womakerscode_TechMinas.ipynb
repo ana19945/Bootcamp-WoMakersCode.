{
  "nbformat": 4,
  "nbformat_minor": 0,
  "metadata": {
    "colab": {
      "provenance": [],
      "include_colab_link": true
    },
    "kernelspec": {
      "name": "python3",
      "display_name": "Python 3"
    },
    "language_info": {
      "name": "python"
    }
  },
  "cells": [
    {
      "cell_type": "markdown",
      "metadata": {
        "id": "view-in-github",
        "colab_type": "text"
      },
      "source": [
        "<a href=\"https://colab.research.google.com/github/ana19945/Bootcamp-WoMakersCode./blob/main/Ana_Paula_Ramos_Desafio_Womakerscode_TechMinas.ipynb\" target=\"_parent\"><img src=\"https://colab.research.google.com/assets/colab-badge.svg\" alt=\"Open In Colab\"/></a>"
      ]
    },
    {
      "cell_type": "markdown",
      "source": [
        "### Bem vindas ao desafio de python do bootcamp Tech Minas da WoMakersCode!\n",
        "Neste notebook, voce deve escrever o codigo python em resposta à cada uma das perguntas. Esteja atenta ao enunciado do problema!\n"
      ],
      "metadata": {
        "id": "Z55f1u4p4oHu"
      }
    },
    {
      "cell_type": "code",
      "source": [
        " "
      ],
      "metadata": {
        "id": "X3cjLqY2sguj"
      },
      "execution_count": null,
      "outputs": []
    },
    {
      "cell_type": "markdown",
      "source": [
        "# Ana Paula Ramos resolução dos Desafios"
      ],
      "metadata": {
        "id": "kxZtZnGCc8BJ"
      }
    },
    {
      "cell_type": "markdown",
      "source": [
        "### Desafio 1\n",
        "Escreva uma função em python que lê dois números inteiros (a,b) e gere como resultado as seguintes operações:adição, subtração, multiplicação e divisão. Execute a funçao na celula abaixo, deixando visivel exemplos de resultados.\n"
      ],
      "metadata": {
        "id": "oFGdIzuu5W7b"
      }
    },
    {
      "cell_type": "code",
      "source": [
        "##### ESCREVER A FUNÇAO ABAIXO\n"
      ],
      "metadata": {
        "id": "LzCl-VH14t4a"
      },
      "execution_count": null,
      "outputs": []
    },
    {
      "cell_type": "code",
      "source": [
        "#### A função recebe dois valores inteiros\n",
        "### printa resultado das operacões\n",
        "\n",
        "def operations(a,b): \n",
        "  s = a + b\n",
        "  ss = a - b\n",
        "  m = a * b\n",
        "  d = a / b\n",
        "  print('A soma é {}, a subtração {}, a multiplicação {} e a divisão é {:.2f}.'.format(s, ss, m, d))\n",
        "\n",
        "operations(3, 2)"
      ],
      "metadata": {
        "id": "k1dHRihCVlJF",
        "outputId": "63540dfc-f53c-4317-8bbd-24c22460a4c8",
        "colab": {
          "base_uri": "https://localhost:8080/"
        }
      },
      "execution_count": null,
      "outputs": [
        {
          "output_type": "stream",
          "name": "stdout",
          "text": [
            "A soma é 5, a subtração 1, a multiplicação 6 e a divisão é 1.50.\n"
          ]
        }
      ]
    },
    {
      "cell_type": "markdown",
      "source": [
        "### Desafio 2\n",
        "Escreva uma função em python que leia como input uma idade e retorne a classificaçao da ideade do individuo da seguinte forma em:\n",
        "\n",
        "*  Criança – 0 a 12 anos\n",
        "*  Adolescente – 13 a 17 anos\n",
        "*  Adulto – acima de 18 anos\n",
        "\n",
        "\n",
        "Se a idade for um número negativo, mostrar a mensagem que a \"idade inválida\"\n",
        "\n"
      ],
      "metadata": {
        "id": "m_tFtRo5581u"
      }
    },
    {
      "cell_type": "code",
      "source": [
        "##### Classificação de idade \n",
        "##### Utilizando condições if, elif e else\n",
        "\n",
        "def classifica_idade(idade=0):\n",
        "\n",
        "  idade = int(input('Digite uma idade?' ))\n",
        "  if idade < 0:\n",
        "    print('idade inválida')\n",
        "  elif idade <= 12:\n",
        "    print('crianca')\n",
        "  elif idade <= 17:\n",
        "    print('Adolescente')\n",
        "  else:\n",
        "    print('Adulto')\n",
        "\n",
        "classifica_idade()"
      ],
      "metadata": {
        "id": "QW6vHwJd14-2",
        "colab": {
          "base_uri": "https://localhost:8080/"
        },
        "outputId": "c52da517-18e9-4e02-f5d4-c369d9fcf809"
      },
      "execution_count": null,
      "outputs": [
        {
          "output_type": "stream",
          "name": "stdout",
          "text": [
            "Digite uma idade?15\n",
            "Adolescente\n"
          ]
        }
      ]
    },
    {
      "cell_type": "markdown",
      "source": [
        "### Desafio 3\n",
        "Crie uma função em python que receba como input um determinado horário em horas e retorne a conversao deste horário para segundos\n"
      ],
      "metadata": {
        "id": "wIGGNN_v60s4"
      }
    },
    {
      "cell_type": "code",
      "source": [
        "### Conversão de horas, minutos e segundos\n",
        "\n",
        "import datetime as dt\n",
        "##### ESCREVER A FUNCAO ABAIXO\n",
        "def time_converter():\n",
        "  horas = int(input(\"Horas:\"))\n",
        "  minutos = int(input(\"Minutos:\"))\n",
        "\n",
        "  # Um minuto tem 60 segundos\n",
        "  # Uma hora tem 3600 (60 * 60) segundos\n",
        "  # Um dia tem 24 horas, logo 24 * 3600 segundos\n",
        "  total_por_segundo =  horas * 3600 + minutos * 60\n",
        "  print(\"Convertido em segundos é igual a %1d segundos.\" % total_por_segundo)\n",
        "time_converter()"
      ],
      "metadata": {
        "id": "AJf1IqiC7Mq_",
        "colab": {
          "base_uri": "https://localhost:8080/"
        },
        "outputId": "2c5c0730-7d77-49ba-e971-fe838d849ff3"
      },
      "execution_count": null,
      "outputs": [
        {
          "output_type": "stream",
          "name": "stdout",
          "text": [
            "Horas:2\n",
            "Minutos:30\n",
            "Convertido em segundos é igual a 9000 segundos.\n"
          ]
        }
      ]
    },
    {
      "cell_type": "markdown",
      "source": [
        "### Desafio 4\n",
        "Crie uma função em python que calcule a média artimética de uma aluna que cursou a disciplina de Programação I. A funcao deve receber como input as notas M1, M2 e M3 e calcular a média. Após a média calculada, a funcao deve anunciar se a aluna foi aprovado, reprovado ou pegou exame de acordo conm a seguinte classificacao:\n",
        "\n",
        "* Se a média estiver entre 0.0 e 4.0, o aluno está reprovado\n",
        "* Se a média estiver entre 4.1 e 6.0, o aluno pegou exame\n",
        "* Se a média for maior do que 6.0, o aluno está aprovado\n",
        "* Se o aluno pegou exame, deve ser lida a nota do exame. Se a nota do exame for maior do que 6.0, está aprovado, senão; está reprovado\n"
      ],
      "metadata": {
        "id": "RCrTUh1E7OWn"
      }
    },
    {
      "cell_type": "code",
      "source": [
        "### Cálculo de média com condições if e elif \n",
        "\n",
        "m1 = float(input('Digite a primeira nota: '))\n",
        "m2 = float(input('Digite a segunda nota: '))\n",
        "m3 = float(input('Digite a terceira nota: '))\n",
        "m = (m1 + m2 + m3)/3\n",
        "print('A sua média é {:.2f}'.format(m))\n",
        "if m<= 4.0:\n",
        "  print('Infelizmente você foi reprovado.')\n",
        "elif 6.0 > m > 4.0:\n",
        "  print('Você ficou de recuperação. ')\n",
        "elif m> 6.0:\n",
        "  print('PARABÉNS! você está aprovado. ')\n",
        "\n"
      ],
      "metadata": {
        "id": "cY7vMECS77QY",
        "colab": {
          "base_uri": "https://localhost:8080/"
        },
        "outputId": "0c1065c5-f2e4-410c-add6-c624031e2c1f"
      },
      "execution_count": null,
      "outputs": [
        {
          "output_type": "stream",
          "name": "stdout",
          "text": [
            "Digite a primeira nota: 8\n",
            "Digite a segunda nota: 9\n",
            "Digite a terceira nota: 10\n",
            "A sua média é 9.00\n",
            "PARABÉNS! você está aprovado. \n"
          ]
        }
      ]
    },
    {
      "cell_type": "markdown",
      "source": [
        "### Desafio 5\n",
        "Dado a seguinte lista: \n",
        "* equipes_bootcamp_dados = [BerthaLutz, GraceHopper, JaquelineGoes, SarahGilbert]\n",
        "\n",
        "1. Crie uma função em python que conte quantas vezes aparece a letra a em cada elemento da lista. Seu resultado deve ser uma lista . exemplo: [4,0,1,2]\n",
        "\n",
        "2. Leia a lista de alunas: ['Maria', 'Ana','Camila','Mariana','Elaine','Patricia','Marina','Erica','Larissa','Luiza', 'Nicole','Bruna']\n",
        "\n",
        "3. Crie uma função que atribua cada uma das alunas em uma das equipes da lista equipes_bootcamp_dados, de modo que cada equipe pode ter 3 alunas no máximo.\n",
        "\n",
        " Para isso ordene em alfabética. O seu resultado deve ser um dicionário python. exemplo {'BerthaLutz': ['Ana', 'Bruna', 'Camila'], 'GraceHopper': ['Elaine','Erika','Luiza'],... }\n"
      ],
      "metadata": {
        "id": "eI9AkpYT788b"
      }
    },
    {
      "cell_type": "code",
      "source": [
        "##### FUNCAO DA ETAPA 1\n",
        "# cria lista com as equipes\n",
        "# cria uma lista vazia\n",
        "# pega as palavras da lista\n",
        "# cria o contador zerado para cada nova palavra\n",
        "# pega letra por letra das palavras\n",
        "# se a letra for a\n",
        "# adiciona 1 ao contador\n",
        "# ao final de cada palavra adiciona o contador a lista\n",
        "\n",
        "\n",
        "equipes_bootcamp_dados = [\"BerthaLutz\", \"GraceHopper\", \"JaquelineGoes\", \"SarahGilbert\"] \n",
        "lista=[] \n",
        "for palavra in equipes_bootcamp_dados:\n",
        "    contador=0 \n",
        "    for letra in palavra: \n",
        "        if letra =='a': \n",
        "            contador+=1 \n",
        "        else:\n",
        "            pass\n",
        "    lista.append(contador) \n",
        "\n",
        "lista"
      ],
      "metadata": {
        "id": "snTgwxt_8hcj",
        "colab": {
          "base_uri": "https://localhost:8080/"
        },
        "outputId": "82b5928f-82fc-42fc-dc0e-43f34950b367"
      },
      "execution_count": null,
      "outputs": [
        {
          "output_type": "execute_result",
          "data": {
            "text/plain": [
              "[1, 1, 1, 2]"
            ]
          },
          "metadata": {},
          "execution_count": 23
        }
      ]
    },
    {
      "cell_type": "code",
      "source": [
        "##### Ler os dados ETAPA 2\n",
        "##### ESCREVER A FUNCAO DA ETAPA 3\n",
        "# ordena a lista\n",
        "# cria um dicionario vazio\n",
        "# pega as equipes\n",
        "# adiciona os 3 primeiros nomes em alunas a chave de equipe\n",
        "# exclui os 3 primeiros nomes\n",
        "\n",
        "alunas=['Maria', 'Ana','Camila','Mariana','Elaine','Patricia','Marina','Erica','Larissa','Luiza', 'Nicole','Bruna']\n",
        "alunas.sort() \n",
        "salas= {}\n",
        "for equipe in equipes_bootcamp_dados: \n",
        "    salas[equipe]=alunas[0:3] \n",
        "    del alunas[0:3] \n",
        "salas"
      ],
      "metadata": {
        "id": "8qZnUInj9Uvr",
        "colab": {
          "base_uri": "https://localhost:8080/"
        },
        "outputId": "a927eb75-78f4-456c-db4f-f2525a2ac8d6"
      },
      "execution_count": null,
      "outputs": [
        {
          "output_type": "execute_result",
          "data": {
            "text/plain": [
              "{'BerthaLutz': ['Ana', 'Bruna', 'Camila'],\n",
              " 'GraceHopper': ['Elaine', 'Erica', 'Larissa'],\n",
              " 'JaquelineGoes': ['Luiza', 'Maria', 'Mariana'],\n",
              " 'SarahGilbert': ['Marina', 'Nicole', 'Patricia']}"
            ]
          },
          "metadata": {},
          "execution_count": 27
        }
      ]
    },
    {
      "cell_type": "markdown",
      "source": [
        "### Desafio 6\n",
        "Escreva uma função em python que leia uma temperatura em graus Celsius e retorne a conversao dela em graus Fahrenheit. \n",
        "\n",
        "A fórmula de conversão é F = (9 * C + 160) / 5, na qual F é a temperatura em Fahrenheit e C é a temperatura em graus Celsius\n",
        "\n",
        "\n"
      ],
      "metadata": {
        "id": "AXoFPjyx82gG"
      }
    },
    {
      "cell_type": "code",
      "source": [
        "### Conversor de temperatura\n",
        "\n",
        "def conversor_temperatura():\n",
        "\n",
        "  c = float(input('Informe a temperatura em °C: '))\n",
        "  f = (9 * c + 160) / 5\n",
        "  print ('A temperatura de {} °  C corresponde a {} F!'.format(c, f))\n",
        "\n",
        "conversor_temperatura() "
      ],
      "metadata": {
        "colab": {
          "base_uri": "https://localhost:8080/"
        },
        "id": "y0GnRxVM9JiB",
        "outputId": "fc8df09e-791f-4b11-9d2b-60468a3fc30c"
      },
      "execution_count": null,
      "outputs": [
        {
          "output_type": "stream",
          "name": "stdout",
          "text": [
            "Informe a temperatura em °C: 19\n",
            "A temperatura de 19.0 °  C corresponde a 66.2 F!\n"
          ]
        }
      ]
    }
  ]
}